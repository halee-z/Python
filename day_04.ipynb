{
  "nbformat": 4,
  "nbformat_minor": 0,
  "metadata": {
    "colab": {
      "provenance": []
    },
    "kernelspec": {
      "name": "python3",
      "display_name": "Python 3"
    },
    "language_info": {
      "name": "python"
    }
  },
  "cells": [
    {
      "cell_type": "markdown",
      "source": [
        "# ***loops***"
      ],
      "metadata": {
        "id": "LOcSjngHzRR9"
      }
    },
    {
      "cell_type": "markdown",
      "source": [
        "***For loop***"
      ],
      "metadata": {
        "id": "Lid6NXsozXSE"
      }
    },
    {
      "cell_type": "code",
      "execution_count": null,
      "metadata": {
        "colab": {
          "base_uri": "https://localhost:8080/"
        },
        "id": "IcgEICVOzQLx",
        "outputId": "690c91cb-849c-4c53-971e-392546741464"
      },
      "outputs": [
        {
          "output_type": "stream",
          "name": "stdout",
          "text": [
            "22\n",
            "22\n",
            "22\n",
            "22\n",
            "22\n",
            "22\n",
            "22\n"
          ]
        }
      ],
      "source": [
        "# for loop\n",
        "h=\"haleema\"\n",
        "\n",
        "for a in h:\n",
        "  print(\"22\")\n"
      ]
    },
    {
      "cell_type": "code",
      "source": [
        "# for loop\n",
        "h=\"haleema\"\n",
        "\n",
        "for a in h:\n",
        "  print(a)"
      ],
      "metadata": {
        "colab": {
          "base_uri": "https://localhost:8080/"
        },
        "id": "XPA1wv3n1Ied",
        "outputId": "978decd7-f0b0-4d2f-9a46-9503934e80f2"
      },
      "execution_count": null,
      "outputs": [
        {
          "output_type": "stream",
          "name": "stdout",
          "text": [
            "h\n",
            "a\n",
            "l\n",
            "e\n",
            "e\n",
            "m\n",
            "a\n"
          ]
        }
      ]
    },
    {
      "cell_type": "code",
      "source": [
        "# for loop\n",
        "h=[\"hiba\",\"nawal\",\"sumbul\",\"haniya\"]\n",
        "\n",
        "for a in h:\n",
        "  print(a)"
      ],
      "metadata": {
        "colab": {
          "base_uri": "https://localhost:8080/"
        },
        "id": "Ppse2kDq1IbP",
        "outputId": "9b936898-b262-490d-83c2-a763f9d41886"
      },
      "execution_count": null,
      "outputs": [
        {
          "output_type": "stream",
          "name": "stdout",
          "text": [
            "hiba\n",
            "nawal\n",
            "sumbul\n",
            "haniya\n"
          ]
        }
      ]
    },
    {
      "cell_type": "markdown",
      "source": [
        "***while loop***"
      ],
      "metadata": {
        "id": "oOzYFYGv4Eh1"
      }
    },
    {
      "cell_type": "code",
      "source": [
        "count=5\n",
        "while(count>0):\n",
        "  print(count)\n",
        "  count=count - 1"
      ],
      "metadata": {
        "colab": {
          "base_uri": "https://localhost:8080/"
        },
        "id": "9m98Yvfo4IqV",
        "outputId": "4d53454d-eefa-4e19-d5cf-e65647bba873"
      },
      "execution_count": null,
      "outputs": [
        {
          "output_type": "stream",
          "name": "stdout",
          "text": [
            "5\n",
            "4\n",
            "3\n",
            "2\n",
            "1\n"
          ]
        }
      ]
    },
    {
      "cell_type": "code",
      "source": [
        "i=1\n",
        "while(i < 5):\n",
        "  print(\"hi\",i)\n",
        "  i+=1"
      ],
      "metadata": {
        "colab": {
          "base_uri": "https://localhost:8080/"
        },
        "id": "xTvYm2165AgN",
        "outputId": "f4d543fa-698a-4423-fb46-3c95276733d4"
      },
      "execution_count": null,
      "outputs": [
        {
          "output_type": "stream",
          "name": "stdout",
          "text": [
            "hi 1\n",
            "hi 2\n",
            "hi 3\n",
            "hi 4\n"
          ]
        }
      ]
    },
    {
      "cell_type": "code",
      "source": [
        "x=1\n",
        "while(x <= 5):\n",
        "  print(x)\n",
        "  x +="
      ],
      "metadata": {
        "colab": {
          "base_uri": "https://localhost:8080/",
          "height": 106
        },
        "id": "_CkU-27J57tn",
        "outputId": "224ed9e1-b83b-4d21-db3a-78000d48e72e"
      },
      "execution_count": null,
      "outputs": [
        {
          "output_type": "error",
          "ename": "SyntaxError",
          "evalue": "incomplete input (<ipython-input-3-9bc43aa4b9e5>, line 2)",
          "traceback": [
            "\u001b[0;36m  File \u001b[0;32m\"<ipython-input-3-9bc43aa4b9e5>\"\u001b[0;36m, line \u001b[0;32m2\u001b[0m\n\u001b[0;31m    while(x <= 5):\u001b[0m\n\u001b[0m                  ^\u001b[0m\n\u001b[0;31mSyntaxError\u001b[0m\u001b[0;31m:\u001b[0m incomplete input\n"
          ]
        }
      ]
    }
  ]
}