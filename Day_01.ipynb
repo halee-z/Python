{
  "nbformat": 4,
  "nbformat_minor": 0,
  "metadata": {
    "colab": {
      "provenance": []
    },
    "kernelspec": {
      "name": "python3",
      "display_name": "Python 3"
    },
    "language_info": {
      "name": "python"
    }
  },
  "cells": [
    {
      "cell_type": "markdown",
      "source": [
        "# ***variables & data types***"
      ],
      "metadata": {
        "id": "2bU0aCAJ3Fxc"
      }
    },
    {
      "cell_type": "code",
      "source": [
        "name:str=\"haleema\"\n",
        "age:int=12\n",
        "hobbies:list=[\"cooking\",\"codeing\",\"beacking\"]\n",
        "yes_no:bool=True\n",
        "print(name)\n",
        "print(age)\n",
        "print(hobbies)\n",
        "print(yes_no)"
      ],
      "metadata": {
        "colab": {
          "base_uri": "https://localhost:8080/"
        },
        "id": "zjKM5Iup3l0r",
        "outputId": "814c33c2-2833-4efc-891f-4952873db8fa"
      },
      "execution_count": null,
      "outputs": [
        {
          "output_type": "stream",
          "name": "stdout",
          "text": [
            "haleema\n",
            "12\n",
            "['cooking', 'codeing', 'beacking']\n",
            "True\n"
          ]
        }
      ]
    },
    {
      "cell_type": "markdown",
      "source": [
        "***name,age,hobbies are the variables.str(string),int(integer),list(list),bool(boolean) are data tyoes in this code.***"
      ],
      "metadata": {
        "id": "OHSE25sv6umo"
      }
    }
  ]
}