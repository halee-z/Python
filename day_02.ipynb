{
  "nbformat": 4,
  "nbformat_minor": 0,
  "metadata": {
    "colab": {
      "provenance": []
    },
    "kernelspec": {
      "name": "python3",
      "display_name": "Python 3"
    },
    "language_info": {
      "name": "python"
    }
  },
  "cells": [
    {
      "cell_type": "markdown",
      "source": [
        "# ***operators***"
      ],
      "metadata": {
        "id": "SvxCRzCyAmPJ"
      }
    },
    {
      "cell_type": "markdown",
      "source": [
        "***Arthmetic***"
      ],
      "metadata": {
        "id": "-mf4lzV7BuUw"
      }
    },
    {
      "cell_type": "code",
      "execution_count": null,
      "metadata": {
        "colab": {
          "base_uri": "https://localhost:8080/"
        },
        "id": "Er4plzcuAiEt",
        "outputId": "96f5705c-6cbb-4011-9769-4c11b3c30171"
      },
      "outputs": [
        {
          "output_type": "stream",
          "name": "stdout",
          "text": [
            "15\n",
            "5\n",
            "2.0\n",
            "50\n",
            "2\n",
            "100000\n",
            "0\n"
          ]
        }
      ],
      "source": [
        "# Arthmetic (+,*,/,-,floor division(//),exponent(**),reminder(%))\n",
        "\n",
        "num1:int=10\n",
        "num2:int=5\n",
        "sum:int= num1 + num2\n",
        "sub:int=num1 - num2\n",
        "div:int=num1 / num2\n",
        "multi:int=num1 * num2\n",
        "print(sum)\n",
        "print(sub)\n",
        "print(div)\n",
        "print(multi)\n",
        "# floor division\n",
        "print(num1 // num2)\n",
        "# exponent\n",
        "print(num1 ** num2)\n",
        "# reminder\n",
        "print(num1 % num2)\n"
      ]
    },
    {
      "cell_type": "markdown",
      "source": [
        "***comparison***"
      ],
      "metadata": {
        "id": "htEfly-fB2Lj"
      }
    },
    {
      "cell_type": "code",
      "source": [
        "# comparison operatoesr (== , != , > ,< , <= , >=)\n",
        "\n",
        "hlee:int=10\n",
        "halee2:int=10\n",
        "print(hlee == halee2)\n",
        "print(hlee < halee2)\n",
        "print(hlee > halee2)\n",
        "print(hlee <= halee2)\n",
        "print(hlee >= halee2)\n",
        "print(hlee != halee2)"
      ],
      "metadata": {
        "colab": {
          "base_uri": "https://localhost:8080/"
        },
        "id": "DWMonuLCBsMo",
        "outputId": "2b80e17d-f74c-4e7f-b034-7c8643b3ec20"
      },
      "execution_count": null,
      "outputs": [
        {
          "output_type": "stream",
          "name": "stdout",
          "text": [
            "True\n",
            "False\n",
            "False\n",
            "True\n",
            "True\n",
            "False\n"
          ]
        }
      ]
    },
    {
      "cell_type": "markdown",
      "source": [
        "***Logical***"
      ],
      "metadata": {
        "id": "VupN7cESCW4_"
      }
    },
    {
      "cell_type": "code",
      "source": [
        "# logical opraters\n",
        "# and: sari condition true hon gi to true mile ga. warna false mile ga.\n",
        "#  or: agar koi ek bhi true ho gi to hame true mile. or agar sari false hon gi to hame false mile ga\n",
        "# not: ye opposite answer deta h.\n",
        "\n",
        "print(20 > 10 and 20 < 30)\n",
        "print(20 > 40 or 30 < 50)\n",
        "\n",
        "print(num1 < num2 and num2 > 90)\n"
      ],
      "metadata": {
        "colab": {
          "base_uri": "https://localhost:8080/"
        },
        "id": "5pRfCXzwCb7i",
        "outputId": "ff7945ea-fbe0-4f94-c6e4-3bfa3e3aedbd"
      },
      "execution_count": null,
      "outputs": [
        {
          "output_type": "stream",
          "name": "stdout",
          "text": [
            "True\n",
            "True\n",
            "False\n"
          ]
        }
      ]
    }
  ]
}