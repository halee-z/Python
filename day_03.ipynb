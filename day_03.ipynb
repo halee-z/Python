{
  "nbformat": 4,
  "nbformat_minor": 0,
  "metadata": {
    "colab": {
      "provenance": []
    },
    "kernelspec": {
      "name": "python3",
      "display_name": "Python 3"
    },
    "language_info": {
      "name": "python"
    }
  },
  "cells": [
    {
      "cell_type": "markdown",
      "source": [
        "# ***conditional statement***"
      ],
      "metadata": {
        "id": "84aWf1qHEEye"
      }
    },
    {
      "cell_type": "code",
      "execution_count": null,
      "metadata": {
        "colab": {
          "base_uri": "https://localhost:8080/"
        },
        "id": "-m_9ya_vEB4S",
        "outputId": "a7e5e642-fd59-4256-b963-3b9b1b5dae7c"
      },
      "outputs": [
        {
          "output_type": "stream",
          "name": "stdout",
          "text": [
            "welcome miss hiba\n"
          ]
        }
      ],
      "source": [
        "# if,elif,else\n",
        "\n",
        "name=\"hiba\"\n",
        "if name == \"hiba\":\n",
        "  print(\"welcome miss hiba\")\n",
        "else:\n",
        "  print(\"sorry,mam id please\")"
      ]
    },
    {
      "cell_type": "code",
      "source": [
        "# elif\n",
        "\n",
        "teacher_name=\"miss amna\"\n",
        "subject=\"science\"\n",
        "\n",
        "if teacher_name == \"amna\":\n",
        "  print(\"hi amna\")\n",
        "elif teacher_name == \"miss amna\":\n",
        "  print(\"hello miss amna\")\n",
        "  print(\"how can I help you\")\n",
        "else:\n",
        "  print(\"yuor Id\")\n"
      ],
      "metadata": {
        "colab": {
          "base_uri": "https://localhost:8080/"
        },
        "id": "Ee8UOSIPGKYm",
        "outputId": "ee423dda-0dc7-4fbf-ac80-859d009614d7"
      },
      "execution_count": null,
      "outputs": [
        {
          "output_type": "stream",
          "name": "stdout",
          "text": [
            "hello miss amna\n",
            "how can I help you\n"
          ]
        }
      ]
    }
  ]
}